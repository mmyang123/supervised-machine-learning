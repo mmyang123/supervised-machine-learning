{
 "cells": [
  {
   "cell_type": "markdown",
   "id": "24bacb9f",
   "metadata": {},
   "source": [
    "# Logistic Regression\n",
    "\n",
    "Logistic regression is a classification algorithm used to predict two know known set of classes or categories, such as yes/no, 0/1, True/False.\n",
    "\n",
    "I think the logistic regression would be a better model to use to train and test the dataset because of the binary classification, such as the zero and 1 of the output of the 'Loan_Status'. The goal is to not over trained your model but to teach our model to understand the human world and thinking abilities."
   ]
  },
  {
   "cell_type": "code",
   "execution_count": null,
   "id": "ab9ae551",
   "metadata": {},
   "outputs": [],
   "source": [
    "# Dependencies\n",
    "\n",
    "%matplotlib inline\n",
    "import matplotlib.pyplot as plt\n",
    "import pandas as pd\n",
    "import os"
   ]
  },
  {
   "cell_type": "code",
   "execution_count": null,
   "id": "981d8ff3",
   "metadata": {},
   "outputs": [],
   "source": [
    "# Load dataset\n",
    "\n",
    "file_path = os.path.join(\"Resources/lending_data.csv\")\n",
    "df = pd.read_csv(file_path)\n",
    "df.head(26)"
   ]
  },
  {
   "cell_type": "code",
   "execution_count": null,
   "id": "379c29a1",
   "metadata": {},
   "outputs": [],
   "source": [
    "print(df)"
   ]
  },
  {
   "cell_type": "code",
   "execution_count": null,
   "id": "91477079",
   "metadata": {},
   "outputs": [],
   "source": [
    "# Define the X (features) and y (target) sets, and drop the output\n",
    "\n",
    "y = df[\"loan_status\"].values\n",
    "X = df.drop(\"loan_status\", axis=1)"
   ]
  },
  {
   "cell_type": "code",
   "execution_count": null,
   "id": "7bc8c92e",
   "metadata": {},
   "outputs": [],
   "source": [
    "X"
   ]
  },
  {
   "cell_type": "markdown",
   "id": "64db5248",
   "metadata": {},
   "source": [
    "### Split our data into two sets; training and testing data"
   ]
  },
  {
   "cell_type": "code",
   "execution_count": null,
   "id": "033a5ad7",
   "metadata": {},
   "outputs": [],
   "source": [
    "from sklearn.model_selection import train_test_split\n",
    "\n",
    "X_train, X_test, y_train, y_test = train_test_split(X, y, random_state=1)"
   ]
  },
  {
   "cell_type": "code",
   "execution_count": null,
   "id": "17ca7eab",
   "metadata": {},
   "outputs": [],
   "source": [
    "X_train"
   ]
  },
  {
   "cell_type": "code",
   "execution_count": null,
   "id": "09d9222b",
   "metadata": {},
   "outputs": [],
   "source": [
    "X_test"
   ]
  },
  {
   "cell_type": "code",
   "execution_count": null,
   "id": "74dac430",
   "metadata": {},
   "outputs": [],
   "source": [
    "y_train"
   ]
  },
  {
   "cell_type": "code",
   "execution_count": null,
   "id": "9b90b77d",
   "metadata": {},
   "outputs": [],
   "source": [
    "y_test"
   ]
  },
  {
   "cell_type": "markdown",
   "id": "d480932f",
   "metadata": {},
   "source": [
    "### Create a logistic regression model"
   ]
  },
  {
   "cell_type": "code",
   "execution_count": null,
   "id": "445732de",
   "metadata": {},
   "outputs": [],
   "source": [
    "# Create the model by using LogisticRegression function\n",
    "\n",
    "from sklearn.linear_model import LogisticRegression\n",
    "classifier = LogisticRegression()\n",
    "classifier\n"
   ]
  },
  {
   "cell_type": "markdown",
   "id": "0b6db61d",
   "metadata": {},
   "source": [
    "### Fit (train) our model by using the training data"
   ]
  },
  {
   "cell_type": "code",
   "execution_count": null,
   "id": "12ba356c",
   "metadata": {},
   "outputs": [],
   "source": [
    "# Fit the model by using the train dataset\n",
    "classifier.fit(X_train, y_train)"
   ]
  },
  {
   "cell_type": "markdown",
   "id": "5ca6be18",
   "metadata": {},
   "source": [
    "### Validate the model by using the test data"
   ]
  },
  {
   "cell_type": "code",
   "execution_count": null,
   "id": "c89f71ae",
   "metadata": {},
   "outputs": [],
   "source": [
    "# Validate the model, and score closest to 1.0 for both train and test set is ideal.\n",
    "print(f\"Training Data Score: {classifier.score(X_train, y_train)}\")\n",
    "print(f\"Testing Data Score: {classifier.score(X_test, y_test)}\")"
   ]
  },
  {
   "cell_type": "markdown",
   "id": "b80b4b39",
   "metadata": {},
   "source": [
    "## Conclusion \n",
    "The logistic regression has closer score to 100%, producing  both the training and testing scores at 99%. Therefore the logistic regression would be the best model to use to train this type of data. It also means that we've met our goal, which is to educate our model to understand what's happening in the real world. The logistic regression has worked well for this type of classification model.\n",
    "\n"
   ]
  },
  {
   "cell_type": "code",
   "execution_count": null,
   "id": "1d1047b1",
   "metadata": {},
   "outputs": [],
   "source": []
  }
 ],
 "metadata": {
  "kernelspec": {
   "display_name": "Python 3 (ipykernel)",
   "language": "python",
   "name": "python3"
  },
  "language_info": {
   "codemirror_mode": {
    "name": "ipython",
    "version": 3
   },
   "file_extension": ".py",
   "mimetype": "text/x-python",
   "name": "python",
   "nbconvert_exporter": "python",
   "pygments_lexer": "ipython3",
   "version": "3.8.13"
  }
 },
 "nbformat": 4,
 "nbformat_minor": 5
}
