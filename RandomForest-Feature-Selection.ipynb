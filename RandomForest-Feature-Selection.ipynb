{
 "cells": [
  {
   "cell_type": "markdown",
   "id": "94ea1b9f",
   "metadata": {},
   "source": [
    "## Random Forests\n",
    "\n",
    "Random Forest is a classification algorithm that select random samples from a given training dataset. It will construct a decision tree for every training data, and resamples the data for each new several smaller, simpler decision trees called the forest of trees. The decision trees for the Random Forests choose the optimal split point for each decision. "
   ]
  },
  {
   "cell_type": "code",
   "execution_count": 1,
   "id": "83fb777e",
   "metadata": {},
   "outputs": [],
   "source": [
    "# Dependencies\n",
    "\n",
    "%matplotlib inline\n",
    "from matplotlib import pyplot as plt\n",
    "from sklearn.datasets import make_classification\n",
    "import numpy as np\n",
    "import pandas as pd\n",
    "from sklearn.linear_model import LogisticRegression\n",
    "from sklearn.ensemble import RandomForestClassifier\n",
    "from sklearn.model_selection import train_test_split\n",
    "from sklearn.preprocessing import StandardScaler\n"
   ]
  },
  {
   "cell_type": "code",
   "execution_count": 2,
   "id": "12c75c0d",
   "metadata": {},
   "outputs": [],
   "source": [
    "# Create Data and scale the fit(train) dataset\n",
    "\n",
    "X, y = make_classification(random_state=1, n_features=50, n_informative=5, n_redundant=0)\n",
    "# X = pd.DataFrame(X)\n",
    "df = pd.read_csv(\"Resources/lending_data.csv\")\n",
    "for col in df.columns:\n",
    "    if df[col].dtype =='object':\n",
    "        df[col] = pd.to_numeric(df[col], errors='coerce')\n",
    "\n",
    "y = drop('loan_status', axis=1, inplace=True\n",
    "X = df.drop(inplace=True)\n",
    "    \n",
    "X = df.drop('class')"
   ]
  },
  {
   "cell_type": "code",
   "execution_count": 4,
   "id": "e902500a",
   "metadata": {},
   "outputs": [
    {
     "name": "stdout",
     "output_type": "stream",
     "text": [
      "Training Score: 1.0\n",
      "Testing Score: 0.76\n"
     ]
    }
   ],
   "source": [
    "clf = RandomForestClassifier(random_state=1, n_estimators=500).fit(X_train_scaled, y_train)\n",
    "print(f'Training Score: {clf.score(X_train_scaled, y_train)}')\n",
    "print(f'Testing Score: {clf.score(X_test_scaled, y_test)}')"
   ]
  },
  {
   "cell_type": "markdown",
   "id": "3774eb19",
   "metadata": {},
   "source": [
    "## Conclusion\n",
    "\n",
    "Although, the random forest model produced a perfect score of 100% for the training set, but the testing score did not produce a very good score. Our goal is not focus so much on the training set to always get 100%, but rather to focus more on the testing set. \n",
    "\n",
    "The testing score concluded that we want to teach our model to understand what's happening of the human world, and from the result of the testing score, the testing set would need more work done to get it closer to the training set.\n",
    "\n"
   ]
  },
  {
   "cell_type": "code",
   "execution_count": null,
   "id": "4eb6d68f",
   "metadata": {},
   "outputs": [],
   "source": []
  }
 ],
 "metadata": {
  "kernelspec": {
   "display_name": "Python 3 (ipykernel)",
   "language": "python",
   "name": "python3"
  },
  "language_info": {
   "codemirror_mode": {
    "name": "ipython",
    "version": 3
   },
   "file_extension": ".py",
   "mimetype": "text/x-python",
   "name": "python",
   "nbconvert_exporter": "python",
   "pygments_lexer": "ipython3",
   "version": "3.8.13"
  }
 },
 "nbformat": 4,
 "nbformat_minor": 5
}
